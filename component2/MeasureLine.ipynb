{
 "cells": [
  {
   "cell_type": "markdown",
   "metadata": {},
   "source": [
    "\\title{Measuring line geographical features} \\author{} \\maketitle"
   ]
  },
  {
   "cell_type": "markdown",
   "metadata": {
    "toc": "true"
   },
   "source": [
    "# Table of Contents\n",
    " <p><div class=\"lev1 toc-item\"><a href=\"#Find-distance-between-two-points\" data-toc-modified-id=\"Find-distance-between-two-points-1\"><span class=\"toc-item-num\">1&nbsp;&nbsp;</span>Find distance between two points</a></div><div class=\"lev1 toc-item\"><a href=\"#Find-distance-between-two-points-constrained-by-another-vector\" data-toc-modified-id=\"Find-distance-between-two-points-constrained-by-another-vector-2\"><span class=\"toc-item-num\">2&nbsp;&nbsp;</span>Find distance between two points constrained by another vector</a></div><div class=\"lev1 toc-item\"><a href=\"#Find-distance-between-large-number-of-points-in-for-loop\" data-toc-modified-id=\"Find-distance-between-large-number-of-points-in-for-loop-3\"><span class=\"toc-item-num\">3&nbsp;&nbsp;</span>Find distance between large number of points in for loop</a></div><div class=\"lev2 toc-item\"><a href=\"#Efficency-by-spatial-indexing\" data-toc-modified-id=\"Efficency-by-spatial-indexing-31\"><span class=\"toc-item-num\">3.1&nbsp;&nbsp;</span>Efficency by spatial indexing</a></div><div class=\"lev1 toc-item\"><a href=\"#The-codes\" data-toc-modified-id=\"The-codes-4\"><span class=\"toc-item-num\">4&nbsp;&nbsp;</span>The codes</a></div>"
   ]
  },
  {
   "cell_type": "markdown",
   "metadata": {},
   "source": [
    "# Find distance between two points"
   ]
  },
  {
   "cell_type": "code",
   "execution_count": null,
   "metadata": {
    "collapsed": true
   },
   "outputs": [],
   "source": [
    "import geopandas as gp\n",
    "import pandas as pd\n",
    "\n",
    "qq=gp.read_file('../data/vector/Mumbai_roads.geojson')"
   ]
  },
  {
   "cell_type": "code",
   "execution_count": null,
   "metadata": {},
   "outputs": [],
   "source": [
    "qq['length']=qq.apply(lambda row: row['geometry'].length*100, axis=1)\n",
    "qq"
   ]
  },
  {
   "cell_type": "markdown",
   "metadata": {},
   "source": [
    "# Find distance between two points constrained by another vector"
   ]
  },
  {
   "cell_type": "code",
   "execution_count": null,
   "metadata": {},
   "outputs": [],
   "source": [
    "poly=gp.read_file('../data/vector/Mumbai_grid_1km.geojson')\n",
    "poly1=poly[poly['VIL']==220]\n",
    "poly1"
   ]
  },
  {
   "cell_type": "code",
   "execution_count": null,
   "metadata": {},
   "outputs": [],
   "source": [
    "%%time\n",
    "data = []\n",
    "for index, orig in poly1.iterrows():\n",
    "    for index2, ref in qq.iterrows():      \n",
    "        if ref['geometry'].intersects(orig['geometry']): \n",
    "            owdspd=orig['VIL']\n",
    "            data.append({'geometry':ref['geometry'].intersection(orig['geometry']),'wdspd':owdspd})"
   ]
  },
  {
   "cell_type": "code",
   "execution_count": null,
   "metadata": {},
   "outputs": [],
   "source": [
    "data1=pd.DataFrame(data)\n",
    "data2 = gp.GeoDataFrame(data1, geometry='geometry')\n",
    "data2.to_file('../data/vector/test.geojson', driver=\"GeoJSON\")"
   ]
  },
  {
   "cell_type": "markdown",
   "metadata": {},
   "source": [
    "#  Find distance between large number of points in for loop"
   ]
  },
  {
   "cell_type": "code",
   "execution_count": null,
   "metadata": {},
   "outputs": [],
   "source": [
    "grids=[206,207,208,243,244,245,246,247,248,281,282,283,284,285,286,319,320,321,322,323,324]\n",
    "poly2=poly[poly['VIL'].isin(grids)]\n",
    "poly2"
   ]
  },
  {
   "cell_type": "code",
   "execution_count": null,
   "metadata": {},
   "outputs": [],
   "source": [
    "%%time\n",
    "data = []\n",
    "for index, orig in poly2.iterrows():\n",
    "    for index2, ref in qq.iterrows():      \n",
    "        if ref['geometry'].intersects(orig['geometry']): \n",
    "            owdspd=orig['VIL']\n",
    "            data.append({'geometry':ref['geometry'].intersection(orig['geometry']),'wdspd':owdspd})"
   ]
  },
  {
   "cell_type": "markdown",
   "metadata": {},
   "source": [
    "## Efficency by spatial indexing"
   ]
  },
  {
   "cell_type": "code",
   "execution_count": null,
   "metadata": {
    "collapsed": true
   },
   "outputs": [],
   "source": [
    "import geopandas as gp\n",
    "qq=gp.read_file('../data/vector/Mumbai_grid_1km.geojson')\n",
    "\n",
    "qq.to_file('../data/vector/Mumbai_grid_1km.shp', driver='ESRI Shapefile')\n",
    "\n",
    "rr=gp.read_file('../data/vector/Mumbai_roads.geojson')\n",
    "\n",
    "rr.to_file('../data/vector/Mumbai_roads.shp', driver='ESRI Shapefile')"
   ]
  },
  {
   "cell_type": "code",
   "execution_count": null,
   "metadata": {},
   "outputs": [],
   "source": [
    "%%time\n",
    "import fiona\n",
    "from shapely.geometry import shape, mapping\n",
    "import rtree\n",
    "\n",
    "\n",
    "def intersect(boundarySHP,roadSHP,outSHP):\n",
    "    with fiona.open(boundarySHP, 'r') as layer1:\n",
    "        with fiona.open(roadSHP, 'r') as layer2:\n",
    "        # We copy schema and add the  new property for the new resulting shp\n",
    "            schema = layer2.schema.copy()\n",
    "            schema['properties']['gno'] = 'int:10'\n",
    "            schema['properties']['length'] = 'float:15.2'\n",
    "        # We open a first empty shp to write new content from both others shp\n",
    "            with fiona.open(outSHP, 'w', 'ESRI Shapefile', schema) as layer3:\n",
    "                index = rtree.index.Index()\n",
    "                for feat1 in layer1:\n",
    "                    fid = int(feat1['id'])\n",
    "                    geom1 = shape(feat1['geometry'])\n",
    "                    index.insert(fid, geom1.bounds)\n",
    "                for feat2 in layer2:\n",
    "                    geom2 = shape(feat2['geometry'])\n",
    "                    for fid in list(index.intersection(geom2.bounds)):\n",
    "                        if fid != int(feat2['id']):\n",
    "                            feat1 = layer1[fid]\n",
    "                            geom1 = shape(feat1['geometry'])\n",
    "                            if geom1.intersects(geom2):\n",
    "                                # We take attributes from ctSHP\n",
    "                                props = feat2['properties']\n",
    "                                # Then append the uid attribute we want from the other shp\n",
    "                                geom3=geom1.intersection(geom2)\n",
    "                                if geom3.geom_type=='GeometryCollection':\n",
    "                                    print \"empty geometry\"\n",
    "                                elif geom3.geom_type=='Point':\n",
    "                                    print props\n",
    "                                else:\n",
    "                                    props['VIL'] = feat1['properties']['VIL']\n",
    "                                    props['length']=geom3.length*100\n",
    "                                    layer3.write({\n",
    "                                    'properties': props,\n",
    "                                    'geometry': mapping(geom1.intersection(geom2))\n",
    "                                    })\n",
    "                                    \n",
    "\n",
    "outSHP='../data/vector/results.shp'\n",
    "boundarySHP='../data/vector/Mumbai_grid_1km.shp'\n",
    "roadSHP='../data/vector/Mumbai_roads.shp'\n",
    "\n",
    "intersect(boundarySHP,roadSHP,outSHP)"
   ]
  },
  {
   "cell_type": "code",
   "execution_count": null,
   "metadata": {
    "collapsed": true
   },
   "outputs": [],
   "source": []
  }
 ],
 "metadata": {
  "author": "Measuring line geographical features",
  "kernelspec": {
   "display_name": "Python 2",
   "language": "python",
   "name": "python2"
  },
  "language_info": {
   "codemirror_mode": {
    "name": "ipython",
    "version": 2
   },
   "file_extension": ".py",
   "mimetype": "text/x-python",
   "name": "python",
   "nbconvert_exporter": "python",
   "pygments_lexer": "ipython2",
   "version": "2.7.14"
  },
  "latex_envs": {
   "LaTeX_envs_menu_present": true,
   "autocomplete": true,
   "bibliofile": "biblio.bib",
   "cite_by": "apalike",
   "current_citInitial": 1,
   "eqLabelWithNumbers": true,
   "eqNumInitial": 1,
   "hotkeys": {
    "equation": "Ctrl-E",
    "itemize": "Ctrl-I"
   },
   "labels_anchors": false,
   "latex_user_defs": false,
   "report_style_numbering": false,
   "user_envs_cfg": false
  },
  "toc": {
   "colors": {
    "hover_highlight": "#DAA520",
    "navigate_num": "#000000",
    "navigate_text": "#333333",
    "running_highlight": "#FF0000",
    "selected_highlight": "#FFD700",
    "sidebar_border": "#EEEEEE",
    "wrapper_background": "#FFFFFF"
   },
   "moveMenuLeft": true,
   "nav_menu": {
    "height": "68px",
    "width": "252px"
   },
   "navigate_menu": true,
   "number_sections": true,
   "sideBar": true,
   "threshold": 4,
   "toc_cell": true,
   "toc_section_display": "block",
   "toc_window_display": true,
   "widenNotebook": false
  }
 },
 "nbformat": 4,
 "nbformat_minor": 2
}
