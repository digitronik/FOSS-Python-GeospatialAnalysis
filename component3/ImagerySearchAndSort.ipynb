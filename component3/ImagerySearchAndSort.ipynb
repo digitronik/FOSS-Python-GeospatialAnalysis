{
 "cells": [
  {
   "cell_type": "markdown",
   "metadata": {},
   "source": [
    "\\title{Satellite Imagery Search and Sort} \\author{} \\maketitle"
   ]
  },
  {
   "cell_type": "markdown",
   "metadata": {
    "toc": "true"
   },
   "source": [
    "# Table of Contents\n",
    " <p><div class=\"lev1 toc-item\"><a href=\"#Intro-to-Landsat-imagery-catalog\" data-toc-modified-id=\"Intro-to-Landsat-imagery-catalog-1\"><span class=\"toc-item-num\">1&nbsp;&nbsp;</span>Intro to Landsat imagery catalog</a></div><div class=\"lev2 toc-item\"><a href=\"#Demo-codes-(won't-work)\" data-toc-modified-id=\"Demo-codes-(won't-work)-11\"><span class=\"toc-item-num\">1.1&nbsp;&nbsp;</span>Demo codes (won't work)</a></div><div class=\"lev1 toc-item\"><a href=\"#Convert-the-imagery-in-geotiff-into-numpy-arrays\" data-toc-modified-id=\"Convert-the-imagery-in-geotiff-into-numpy-arrays-2\"><span class=\"toc-item-num\">2&nbsp;&nbsp;</span>Convert the imagery in geotiff into numpy arrays</a></div><div class=\"lev2 toc-item\"><a href=\"#Multiband\" data-toc-modified-id=\"Multiband-21\"><span class=\"toc-item-num\">2.1&nbsp;&nbsp;</span>Multiband</a></div><div class=\"lev2 toc-item\"><a href=\"#Single-band\" data-toc-modified-id=\"Single-band-22\"><span class=\"toc-item-num\">2.2&nbsp;&nbsp;</span>Single band</a></div><div class=\"lev1 toc-item\"><a href=\"#Find-cloud-cover-over-satellite-imagery\" data-toc-modified-id=\"Find-cloud-cover-over-satellite-imagery-3\"><span class=\"toc-item-num\">3&nbsp;&nbsp;</span>Find cloud cover over satellite imagery</a></div><div class=\"lev2 toc-item\"><a href=\"#detecting-lowest-cloud-cover-imagery\" data-toc-modified-id=\"detecting-lowest-cloud-cover-imagery-31\"><span class=\"toc-item-num\">3.1&nbsp;&nbsp;</span>detecting lowest cloud cover imagery</a></div>"
   ]
  },
  {
   "cell_type": "markdown",
   "metadata": {},
   "source": [
    "# Intro to Landsat imagery catalog\n",
    "\n",
    "1. catalog from [GCP](https://storage.googleapis.com/gcp-public-data-landsat/index.csv.gz)\n",
    "\n",
    "## Demo codes (won't work)"
   ]
  },
  {
   "cell_type": "code",
   "execution_count": null,
   "metadata": {
    "collapsed": true
   },
   "outputs": [],
   "source": [
    "import pandas as pd\n",
    "db=pd.read_csv('index.csv')\n",
    "db.head()\n",
    "db1=db[db.SPACECRAFT_ID=='LANDSAT_8']\n",
    "db1.info()\n",
    "\n",
    "db1['date'] = pd.to_datetime(db1['DATE_ACQUIRED'])  \n",
    "mask = (db1['date'] > '2015-1-1') & (db1['date'] <= '2015-12-31')\n",
    "db2 = db1.loc[mask]\n",
    "\n",
    "db3=db2[(db2['WRS_PATH']==148)&(db2['WRS_ROW']==47)]\n",
    "db3"
   ]
  },
  {
   "cell_type": "code",
   "execution_count": null,
   "metadata": {
    "collapsed": true
   },
   "outputs": [],
   "source": [
    "db1.sort_values('date')"
   ]
  },
  {
   "cell_type": "code",
   "execution_count": null,
   "metadata": {
    "collapsed": true
   },
   "outputs": [],
   "source": [
    "import os\n",
    "import pandas as pd\n",
    "\n",
    "for city in cities:\n",
    "    pathrow3=pathrow2[pathrow2.city==city]\n",
    "    newpath = '/home/sunbird/landsat/'+city \n",
    "    if not os.path.exists(newpath):\n",
    "        os.makedirs(newpath)\n",
    "    for index, row in pathrow3.iterrows():\n",
    "        os.popen(\"gsutil -m cp -r \"+row['BASE_URL']+\" /home/sunbird/landsat/\"+city+\"/\").readlines()"
   ]
  },
  {
   "cell_type": "code",
   "execution_count": null,
   "metadata": {
    "collapsed": true
   },
   "outputs": [],
   "source": [
    "import fiona\n",
    "import rasterio\n",
    "import rasterio.tools.mask\n",
    "import glob\n",
    "import os\n",
    "import ntpath\n",
    "\n",
    "\n",
    "with fiona.open(\"Mumbai_extent_32643.shp\", \"r\") as shapefile:\n",
    "    features = [feature[\"geometry\"] for feature in shapefile]\n",
    "\n",
    "\n",
    "lcfolders='mumbai/LC81480472016284LGN00'\n",
    "    \n",
    "def path_leaf(path):\n",
    "    head, tail = ntpath.split(path)\n",
    "    return tail or ntpath.basename(head)\n",
    "\n",
    "tifiles=glob.glob(lcfolders+'/*.TIF')\n",
    "for tifile in tifiles:\n",
    "    shpfiles2=(os.path.splitext(tifile)[0])\n",
    "    shpfile1=path_leaf(shpfiles2)\n",
    "    with rasterio.open(tifile) as src:\n",
    "        out_image, out_transform = rasterio.tools.mask.mask(src, features,crop=True)\n",
    "        out_meta = src.meta.copy()\n",
    "        out_meta.update({\"driver\": \"GTiff\",\"height\": out_image.shape[1],\"width\": out_image.shape[2],\"transform\": out_transform})\n",
    "        with rasterio.open('/home/sunbird/treecover/Msubset/'+shpfile1+\".tif\", \"w\", **out_meta) as dest:\n",
    "            dest.write(out_image)"
   ]
  },
  {
   "cell_type": "markdown",
   "metadata": {},
   "source": [
    "# Convert the imagery in geotiff into numpy arrays"
   ]
  },
  {
   "cell_type": "code",
   "execution_count": null,
   "metadata": {
    "collapsed": true
   },
   "outputs": [],
   "source": [
    "import rasterio"
   ]
  },
  {
   "cell_type": "markdown",
   "metadata": {},
   "source": [
    "## Multiband"
   ]
  },
  {
   "cell_type": "code",
   "execution_count": null,
   "metadata": {
    "collapsed": true
   },
   "outputs": [],
   "source": [
    "dataset = rasterio.open(\"../data/raster/Mumbai_2016.tif\")\n",
    "data=dataset.read(1)"
   ]
  },
  {
   "cell_type": "markdown",
   "metadata": {},
   "source": [
    "## Single band"
   ]
  },
  {
   "cell_type": "code",
   "execution_count": null,
   "metadata": {
    "collapsed": true
   },
   "outputs": [],
   "source": [
    "dataset = rasterio.open(\"../data/raster/Mumbai_2016.tif\")\n",
    "data=dataset.read(1)"
   ]
  },
  {
   "cell_type": "code",
   "execution_count": null,
   "metadata": {
    "collapsed": true
   },
   "outputs": [],
   "source": [
    "data.shape"
   ]
  },
  {
   "cell_type": "markdown",
   "metadata": {},
   "source": [
    "# Find cloud cover over satellite imagery\n",
    "1. Apply fmask algorthm\n",
    "1. Algorithm based [on](http://pythonfmask.org/en/latest/)"
   ]
  },
  {
   "cell_type": "code",
   "execution_count": null,
   "metadata": {
    "collapsed": true
   },
   "outputs": [],
   "source": [
    "import os\n",
    "import sys\n",
    "import argparse\n",
    "\n",
    "from fmask import landsatangles\n",
    "from fmask import config\n",
    "\n",
    "from rios import fileinfo\n",
    "from rios import applier\n",
    "import numpy\n",
    "import glob\n",
    "from pyproj import Proj, transform\n",
    "import datetime\n",
    "\n",
    "\n",
    "\n",
    "def sunAnglesForExtent(imgInfo, mtlInfo):\n",
    "    \"\"\"\n",
    "    Return array of sun azimuth and zenith for each of the corners of the image\n",
    "    extent. Note that this is the raster extent, not the corners of the swathe.\n",
    "\n",
    "    The algorithm used here has been copied from the 6S possol() subroutine. The\n",
    "    Fortran code I copied it from was .... up to the usual standard in 6S. So, the\n",
    "    notation is not always clear.\n",
    "\n",
    "    \"\"\"\n",
    "    inProj = Proj(init='epsg:32643')\n",
    "    outProj = Proj(init='epsg:4326')\n",
    "    cornerLatLong = imgInfo.getCorners()\n",
    "    (ul_long, ul_lat, ur_long, ur_lat, lr_long, lr_lat, ll_long, ll_lat) = cornerLatLong\n",
    "    ul_long1, ul_lat1=transform(inProj,outProj,ul_long, ul_lat)\n",
    "    ur_long1, ur_lat1=transform(inProj,outProj,ur_long, ur_lat)\n",
    "    lr_long1, lr_lat1=transform(inProj,outProj,lr_long, lr_lat,)\n",
    "    ll_long1, ll_lat1=transform(inProj,outProj,ll_long, ll_lat)\n",
    "    pts = numpy.array([\n",
    "        [ul_long1, ul_lat1],\n",
    "        [ur_long1, ur_lat1],\n",
    "        [ll_long1, ll_lat1],\n",
    "        [lr_long1, lr_lat1]\n",
    "    ])\n",
    "    longDeg = pts[:, 0]\n",
    "    latDeg = pts[:, 1]\n",
    "    # Date/time in UTC\n",
    "    dateStr = mtlInfo['DATE_ACQUIRED']\n",
    "    timeStr = mtlInfo['SCENE_CENTER_TIME'].replace('Z', '')\n",
    "    ymd = [int(i) for i in dateStr.split('-')]\n",
    "    dateObj = datetime.date(ymd[0], ymd[1], ymd[2])\n",
    "    julianDay = (dateObj - datetime.date(ymd[0], 1, 1)).days + 1\n",
    "    juldayYearEnd = (datetime.date(ymd[0], 12, 31) - datetime.date(ymd[0], 1, 1)).days + 1\n",
    "    # Julian day as a proportion of the year\n",
    "    jdp = julianDay / juldayYearEnd\n",
    "    # Hour in UTC\n",
    "    hms = [float(x) for x in timeStr.split(':')]\n",
    "    hourGMT = hms[0] + hms[1] / 60.0 + hms[2] / 3600.0\n",
    "    (sunAz, sunZen) = landsatangles.sunAnglesForPoints(latDeg, longDeg, hourGMT, jdp)\n",
    "    sunAngles = numpy.vstack((sunAz, sunZen)).T\n",
    "    return sunAngles\n",
    "\n",
    "\n",
    "def getCtrLatLong1(imgInfo):\n",
    "    \"\"\"\n",
    "    Return the lat/long of the centre of the image as\n",
    "        (ctrLat, ctrLong)\n",
    "\n",
    "    \"\"\"\n",
    "    cornerLatLong = imgInfo.getCorners()\n",
    "    inProj = Proj(init='epsg:32643')\n",
    "    outProj = Proj(init='epsg:4326')\n",
    "    (ul_long, ul_lat, ur_long, ur_lat, lr_long, lr_lat, ll_long, ll_lat) = cornerLatLong\n",
    "    ul_long1, ul_lat1=transform(inProj,outProj,ul_long, ul_lat)\n",
    "    ur_long1, ur_lat1=transform(inProj,outProj,ur_long, ur_lat)\n",
    "    lr_long1, lr_lat1=transform(inProj,outProj,lr_long, lr_lat)\n",
    "    ll_long1, ll_lat1=transform(inProj,outProj,ll_long, ll_lat)\n",
    "    ctrLat = numpy.array([ul_lat, ur_lat, lr_lat, ll_lat]).mean()\n",
    "    ctrLong = numpy.array([ul_long, ur_long, lr_long, ll_long]).mean()\n",
    "    return (ctrLat, ctrLong)\n",
    "\n",
    "\n",
    "\n",
    "def makeAnglesImage(templateimg, outfile, nadirLine, extentSunAngles, satAzimuth, imgInfo):\n",
    "    \"\"\"\n",
    "    Make a single output image file of the sun and satellite angles for every\n",
    "    pixel in the template image.\n",
    "\n",
    "    \"\"\"\n",
    "    imgInfo  = fileinfo.ImageInfo(templateimg)\n",
    "    infiles = applier.FilenameAssociations()\n",
    "    outfiles = applier.FilenameAssociations()\n",
    "    otherargs = applier.OtherInputs()\n",
    "    controls = applier.ApplierControls()\n",
    "    infiles.img = templateimg\n",
    "    outfiles.angles = outfile\n",
    "    (ctrLat, ctrLong) = getCtrLatLong1(imgInfo)\n",
    "    otherargs.R = landsatangles.localRadius(ctrLat)\n",
    "    otherargs.nadirLine = nadirLine\n",
    "    otherargs.xMin = imgInfo.xMin\n",
    "    otherargs.xMax = imgInfo.xMax\n",
    "    otherargs.yMin = imgInfo.yMin\n",
    "    otherargs.yMax = imgInfo.yMax\n",
    "    otherargs.extentSunAngles = extentSunAngles\n",
    "    otherargs.satAltitude = 705000      # Landsat nominal altitude in metres\n",
    "    otherargs.satAzimuth = satAzimuth\n",
    "    otherargs.radianScale = 100        # Store pixel values as (radians * radianScale)\n",
    "    controls.setStatsIgnore(500)\n",
    "    applier.apply(landsatangles.makeAngles, infiles, outfiles, otherargs, controls=controls)\n",
    "    \n",
    "\n",
    "os.chdir('/home/sunbird/Documents/FOSS-Python-GeospatialAnalysis/data/raster/')\n",
    "os.popen(\"gdal_merge.py -separate -o \"+'ref_'+'mumimg'+\".tif\"+\" LC*_B[1-7,9].tif\").readlines()\n",
    "os.popen(\"gdal_merge.py -separate -o \"+'thermal_'+'mumimg'+\".tif\"+\" LC*_B1[0,1].tif\").readlines()\n",
    "mtlInfo = config.readMTLFile('LC81480472016284LGN00_MTL.txt')\n",
    "imgInfo = fileinfo.ImageInfo('ref_mumimg.tif')\n",
    "corners = landsatangles.findImgCorners('ref_mumimg.tif', imgInfo)\n",
    "nadirLine = landsatangles.findNadirLine(corners)\n",
    "extentSunAngles = sunAnglesForExtent(imgInfo, mtlInfo)\n",
    "satAzimuth = landsatangles.satAzLeftRight(nadirLine)\n",
    "makeAnglesImage('ref_mumimg.tif', 'angles_mumimg.tif',nadirLine, extentSunAngles, satAzimuth, imgInfo)\n",
    "#os.popen(\"fmask_usgsLandsatSaturationMask.py -i \"+\"ref_\"+'mumimg'+\".tif\"+\" -m *_MTL.txt -o \"+\"saturationmask_\"+'mumimg'+\".tif\").readlines()\n",
    "#os.popen(\"fmask_usgsLandsatTOA.py -i \"+\"ref_\"+'mumimg'+\".tif\"+\" -m *_MTL.txt -z angles_\"+'mumimg'+\".tif \"+\"-o toa_\"+'mumimg'+\".tif\").readlines()\n",
    "#os.popen(\"fmask_usgsLandsatStacked.py -t \"+\"thermal_\"+'mumimg'+\".tif\"+\" -a \"+\"toa_\"+'mumimg'+\".tif\"+\" -m *_MTL.txt -z angles_\"+'mumimg'+\".tif\"+\" -s \"+\"saturationmask_\"+'mumimg'+\".tif\"+\" -o \"+\"cloud_\"+'mumimg'+\".tif\").readlines()\n",
    "\n"
   ]
  },
  {
   "cell_type": "code",
   "execution_count": null,
   "metadata": {
    "collapsed": true
   },
   "outputs": [],
   "source": [
    "os.popen(\"fmask_usgsLandsatSaturationMask.py -i ref_mumimg.tif -m *_MTL.txt -o saturationmask.tif\").readlines()\n",
    "os.popen(\"fmask_usgsLandsatTOA.py -i ref_mumimg.tif -m *_MTL.txt -z angles_mumimg.tif -o toa.tif\").readlines()\n",
    "os.popen(\"fmask_usgsLandsatStacked.py -t thermal_mumimg.tif -a toa.tif -m *_MTL.txt -z angles_mumimg.tif -s saturationmask.tif -o cloud.tif\").readlines()"
   ]
  },
  {
   "cell_type": "markdown",
   "metadata": {},
   "source": [
    "## detecting lowest cloud cover imagery"
   ]
  },
  {
   "cell_type": "code",
   "execution_count": null,
   "metadata": {
    "collapsed": true
   },
   "outputs": [],
   "source": [
    "import os\n",
    "import glob\n",
    "import rasterio\n",
    "import numpy as np\n",
    "\n",
    "os.chdir('/home/sunbird/Documents/FOSS-Python-GeospatialAnalysis/data/raster/')\n",
    "dataset = rasterio.open(\"cloud.tif\")\n",
    "data=dataset.read(1)\n",
    "unique, counts = np.unique(data, return_counts=True)\n",
    "dattif=dict(zip(unique, counts))\n",
    "dattif1={x: dattif[x] for x in [2,3] if x in dattif}\n",
    "percloud=round(((float(sum([i for i in dattif1.values()])*30*30)/(1000*1000))) / ((sum([i for i in dattif.values()])*30*30)/(1000*1000)) *100)\n",
    "print percloud"
   ]
  }
 ],
 "metadata": {
  "author": "Satellite Imagery Search and Sort",
  "kernelspec": {
   "display_name": "Python 2",
   "language": "python",
   "name": "python2"
  },
  "language_info": {
   "codemirror_mode": {
    "name": "ipython",
    "version": 2
   },
   "file_extension": ".py",
   "mimetype": "text/x-python",
   "name": "python",
   "nbconvert_exporter": "python",
   "pygments_lexer": "ipython2",
   "version": "2.7.14"
  },
  "latex_envs": {
   "LaTeX_envs_menu_present": true,
   "autocomplete": true,
   "bibliofile": "biblio.bib",
   "cite_by": "apalike",
   "current_citInitial": 1,
   "eqLabelWithNumbers": true,
   "eqNumInitial": 1,
   "hotkeys": {
    "equation": "Ctrl-E",
    "itemize": "Ctrl-I"
   },
   "labels_anchors": false,
   "latex_user_defs": false,
   "report_style_numbering": false,
   "user_envs_cfg": false
  },
  "toc": {
   "colors": {
    "hover_highlight": "#DAA520",
    "navigate_num": "#000000",
    "navigate_text": "#333333",
    "running_highlight": "#FF0000",
    "selected_highlight": "#FFD700",
    "sidebar_border": "#EEEEEE",
    "wrapper_background": "#FFFFFF"
   },
   "moveMenuLeft": true,
   "nav_menu": {
    "height": "133px",
    "width": "252px"
   },
   "navigate_menu": true,
   "number_sections": true,
   "sideBar": true,
   "threshold": 4,
   "toc_cell": true,
   "toc_section_display": "block",
   "toc_window_display": true,
   "widenNotebook": false
  }
 },
 "nbformat": 4,
 "nbformat_minor": 2
}
