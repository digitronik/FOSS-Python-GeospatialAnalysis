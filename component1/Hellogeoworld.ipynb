{
 "cells": [
  {
   "cell_type": "markdown",
   "metadata": {},
   "source": [
    "\\title{Hellogeoworld} \\author{} \\maketitle"
   ]
  },
  {
   "cell_type": "markdown",
   "metadata": {
    "toc": "true"
   },
   "source": [
    "# Table of Contents\n",
    " <p><div class=\"lev1 toc-item\"><a href=\"#Introduction-to-literal-programming--Jupyter-notebook\" data-toc-modified-id=\"Introduction-to-literal-programming--Jupyter-notebook-1\"><span class=\"toc-item-num\">1&nbsp;&nbsp;</span>Introduction to literal programming- Jupyter notebook</a></div><div class=\"lev1 toc-item\"><a href=\"#Introduction-to-tools-of-GIS,-GUI\" data-toc-modified-id=\"Introduction-to-tools-of-GIS,-GUI-2\"><span class=\"toc-item-num\">2&nbsp;&nbsp;</span>Introduction to tools of GIS, GUI</a></div><div class=\"lev1 toc-item\"><a href=\"#Introduction-to-vector-data\" data-toc-modified-id=\"Introduction-to-vector-data-3\"><span class=\"toc-item-num\">3&nbsp;&nbsp;</span>Introduction to vector data</a></div><div class=\"lev2 toc-item\"><a href=\"#Create-point-vector\" data-toc-modified-id=\"Create-point-vector-31\"><span class=\"toc-item-num\">3.1&nbsp;&nbsp;</span>Create point vector</a></div><div class=\"lev2 toc-item\"><a href=\"#Create-a-line-vector\" data-toc-modified-id=\"Create-a-line-vector-32\"><span class=\"toc-item-num\">3.2&nbsp;&nbsp;</span>Create a line vector</a></div><div class=\"lev2 toc-item\"><a href=\"#Create-a-polygon-vector\" data-toc-modified-id=\"Create-a-polygon-vector-33\"><span class=\"toc-item-num\">3.3&nbsp;&nbsp;</span>Create a polygon vector</a></div><div class=\"lev1 toc-item\"><a href=\"#Introduction-to-raster-data\" data-toc-modified-id=\"Introduction-to-raster-data-4\"><span class=\"toc-item-num\">4&nbsp;&nbsp;</span>Introduction to raster data</a></div><div class=\"lev2 toc-item\"><a href=\"#create-a-geo-raster-from-numpy-array\" data-toc-modified-id=\"create-a-geo-raster-from-numpy-array-41\"><span class=\"toc-item-num\">4.1&nbsp;&nbsp;</span>create a geo raster from numpy array</a></div><div class=\"lev1 toc-item\"><a href=\"#Visualization\" data-toc-modified-id=\"Visualization-5\"><span class=\"toc-item-num\">5&nbsp;&nbsp;</span>Visualization</a></div><div class=\"lev1 toc-item\"><a href=\"#binary-and-text-file-formats-of-geospatial-data\" data-toc-modified-id=\"binary-and-text-file-formats-of-geospatial-data-6\"><span class=\"toc-item-num\">6&nbsp;&nbsp;</span>binary and text file formats of geospatial data</a></div>"
   ]
  },
  {
   "cell_type": "markdown",
   "metadata": {},
   "source": [
    "#  Introduction to literal programming- Jupyter notebook"
   ]
  },
  {
   "cell_type": "markdown",
   "metadata": {},
   "source": [
    "# Introduction to tools of GIS, GUI\n",
    "\n",
    "1. QGIS\n",
    "2. Google earth"
   ]
  },
  {
   "cell_type": "markdown",
   "metadata": {},
   "source": [
    "# Introduction to vector data"
   ]
  },
  {
   "cell_type": "markdown",
   "metadata": {},
   "source": [
    "## Create point vector "
   ]
  },
  {
   "cell_type": "code",
   "execution_count": null,
   "metadata": {},
   "outputs": [],
   "source": [
    "import pandas as pd\n",
    "from shapely import geometry\n",
    "import geopandas as gp\n",
    "\n",
    "p1 = geometry.Point(19.130544,72.916528)\n",
    "p2 = geometry.Point(19.134436,72.912258)\n",
    "p3 = geometry.Point(19.137749,72.914028)\n",
    "p4 = geometry.Point(19.133443,72.916485)\n",
    "\n",
    "pointList = [p1, p2, p3, p4]\n",
    "\n",
    "p1na='Auditorium'\n",
    "p2na='Playground'\n",
    "p3na='Hostel'\n",
    "p4na='Office'\n",
    "\n",
    "\n",
    "pointName=[p1na, p2na, p3na, p4na]\n",
    "\n",
    "db=pd.DataFrame()\n",
    "db['geometry']=pointList\n",
    "db['place_name']=pointName\n",
    "\n",
    "data2 = gp.GeoDataFrame(db, geometry='geometry')\n",
    "data2.to_file('../data/vector/point.geojson', driver=\"GeoJSON\")"
   ]
  },
  {
   "cell_type": "markdown",
   "metadata": {},
   "source": [
    "## Create a line vector"
   ]
  },
  {
   "cell_type": "code",
   "execution_count": null,
   "metadata": {},
   "outputs": [],
   "source": [
    "from shapely.geometry import LineString\n",
    "\n",
    "l1 = LineString([p1,p2])\n",
    "\n",
    "l2= LineString([p2,p3])\n",
    "l3= LineString([p3,p4])\n",
    "l4= LineString([p4,p1])\n",
    "\n",
    "lineList=[l1,l2,l3,l4]\n",
    "lineName=['l1','l2','l3','l4']\n",
    "\n",
    "db=pd.DataFrame()\n",
    "db['geometry']=lineList\n",
    "db['place_name']=lineName\n",
    "\n",
    "data2 = gp.GeoDataFrame(db, geometry='geometry')\n",
    "data2.to_file('../data/vector/line.geojson', driver=\"GeoJSON\")"
   ]
  },
  {
   "cell_type": "markdown",
   "metadata": {},
   "source": [
    "## Create a polygon vector"
   ]
  },
  {
   "cell_type": "code",
   "execution_count": null,
   "metadata": {},
   "outputs": [],
   "source": [
    "from shapely.geometry import Polygon\n",
    "\n",
    "\n",
    "polygon1 = Polygon([[19.130544,72.916528], [19.134436,72.912258], [19.137749,72.914028],[19.133443,72.916485] ])\n",
    "\n",
    "\n",
    "(19.134436,72.912258), (19.137749,72.914028),(19.133443,72.916485)\n",
    "\n",
    "(19.137749,72.914028),(19.133443,72.916485),(19.130544,72.916528)\n",
    "\n",
    "pol1 = Polygon([(19.130544,72.916528), (19.134436,72.912258), (19.137749,72.914028)])\n",
    "pol2 = Polygon([(19.134436,72.912258), (19.137749,72.914028),(19.133443,72.916485)])\n",
    "pol3 = Polygon([(19.137749,72.914028),(19.133443,72.916485),(19.130544,72.916528)])\n",
    "g = gp.GeoSeries([pol1, pol2, pol3])\n",
    "\n",
    "\n",
    "#polygon = Polygon([[0, 0], [1, 0], [1, 1], [0, 1]])\n",
    "\n",
    "db=pd.DataFrame()\n",
    "db['geometry']=g\n",
    "db['place_name']=['A polygon','B polygon','C polygon']\n",
    "\n",
    "data2 = gp.GeoDataFrame(db, geometry='geometry')\n",
    "data2.to_file('../data/vector/polygon.geojson', driver=\"GeoJSON\")"
   ]
  },
  {
   "cell_type": "markdown",
   "metadata": {},
   "source": [
    "# Introduction to raster data"
   ]
  },
  {
   "cell_type": "markdown",
   "metadata": {},
   "source": [
    "## create a geo raster from numpy array"
   ]
  },
  {
   "cell_type": "code",
   "execution_count": null,
   "metadata": {},
   "outputs": [],
   "source": [
    "# have to install this library conda install -c conda-forge scikit-image\n",
    "from skimage import data, io, filters\n",
    "from rasterio.transform import from_origin\n",
    "import numpy as np\n",
    "import rasterio \n",
    "\n",
    "\n",
    "image = data.coins()\n",
    "image.shape\n",
    "\n",
    "io.imshow(image)\n",
    "io.show()"
   ]
  },
  {
   "cell_type": "code",
   "execution_count": null,
   "metadata": {
    "collapsed": true
   },
   "outputs": [],
   "source": [
    "transform = from_origin(62.66, 15.11, res, res)"
   ]
  },
  {
   "cell_type": "code",
   "execution_count": null,
   "metadata": {},
   "outputs": [],
   "source": [
    "with rasterio.open('/home/sunbird/Documents/FOSS-Python-GeospatialAnalysis/data/raster/sample5.tif', 'w', driver='GTiff', height=Z.shape[0],\n",
    "                   width=Z.shape[1], count=1, dtype=image.dtype,\n",
    "                   crs='+proj=latlong', transform=transform) as dst:\n",
    "    dst.write(image, 1)"
   ]
  },
  {
   "cell_type": "markdown",
   "metadata": {},
   "source": [
    "# Visualization"
   ]
  },
  {
   "cell_type": "code",
   "execution_count": null,
   "metadata": {
    "collapsed": true
   },
   "outputs": [],
   "source": [
    "#have to install this library  conda install -c conda-forge ipyleaflet\n",
    "from ipyleaflet import Map\n",
    "\n",
    "Map(center=[19.130544,72.916528], zoom=18)"
   ]
  },
  {
   "cell_type": "markdown",
   "metadata": {},
   "source": [
    "# binary and text file formats of geospatial data\n",
    "\n",
    "1. comparision on shape file and geojson\n",
    "2. comparision on geotiff and asc"
   ]
  }
 ],
 "metadata": {
  "author": "Hellogeoworld",
  "kernelspec": {
   "display_name": "Python 2",
   "language": "python",
   "name": "python2"
  },
  "language_info": {
   "codemirror_mode": {
    "name": "ipython",
    "version": 2
   },
   "file_extension": ".py",
   "mimetype": "text/x-python",
   "name": "python",
   "nbconvert_exporter": "python",
   "pygments_lexer": "ipython2",
   "version": "2.7.14"
  },
  "latex_envs": {
   "LaTeX_envs_menu_present": true,
   "autocomplete": true,
   "bibliofile": "biblio.bib",
   "cite_by": "apalike",
   "current_citInitial": 1,
   "eqLabelWithNumbers": true,
   "eqNumInitial": 1,
   "hotkeys": {
    "equation": "Ctrl-E",
    "itemize": "Ctrl-I"
   },
   "labels_anchors": false,
   "latex_user_defs": false,
   "report_style_numbering": false,
   "user_envs_cfg": false
  },
  "toc": {
   "colors": {
    "hover_highlight": "#DAA520",
    "navigate_num": "#000000",
    "navigate_text": "#333333",
    "running_highlight": "#FF0000",
    "selected_highlight": "#FFD700",
    "sidebar_border": "#EEEEEE",
    "wrapper_background": "#FFFFFF"
   },
   "moveMenuLeft": true,
   "nav_menu": {
    "height": "216px",
    "width": "252px"
   },
   "navigate_menu": true,
   "number_sections": false,
   "sideBar": true,
   "threshold": 4,
   "toc_cell": true,
   "toc_section_display": "block",
   "toc_window_display": true,
   "widenNotebook": false
  }
 },
 "nbformat": 4,
 "nbformat_minor": 2
}
